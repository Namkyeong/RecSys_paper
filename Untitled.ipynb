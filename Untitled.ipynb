{
 "cells": [
  {
   "cell_type": "code",
   "execution_count": 4,
   "metadata": {},
   "outputs": [],
   "source": [
    "import numpy as np\n",
    "import data\n",
    "train = data.train\n",
    "test = data.test"
   ]
  },
  {
   "cell_type": "code",
   "execution_count": 2,
   "metadata": {},
   "outputs": [],
   "source": [
    "num_users, num_items = train.shape"
   ]
  },
  {
   "cell_type": "code",
   "execution_count": 5,
   "metadata": {},
   "outputs": [],
   "source": [
    "X = np.random.normal(0, 0.1, size=(num_users, 40))\n",
    "Y = np.random.normal(0, 0.1, size=(num_items, 40))"
   ]
  },
  {
   "cell_type": "code",
   "execution_count": 11,
   "metadata": {},
   "outputs": [
    {
     "data": {
      "text/plain": [
       "(40,)"
      ]
     },
     "execution_count": 11,
     "metadata": {},
     "output_type": "execute_result"
    }
   ],
   "source": [
    "temp = 0.01 * X[1, :]\n",
    "temp.shape"
   ]
  },
  {
   "cell_type": "code",
   "execution_count": 12,
   "metadata": {},
   "outputs": [
    {
     "data": {
      "text/plain": [
       "(40,)"
      ]
     },
     "execution_count": 12,
     "metadata": {},
     "output_type": "execute_result"
    }
   ],
   "source": [
    "X[1, :].shape"
   ]
  },
  {
   "cell_type": "code",
   "execution_count": 19,
   "metadata": {},
   "outputs": [
    {
     "data": {
      "text/plain": [
       "0.011327735767818009"
      ]
     },
     "execution_count": 19,
     "metadata": {},
     "output_type": "execute_result"
    }
   ],
   "source": [
    "X[1].dot(Y[1].T)"
   ]
  },
  {
   "cell_type": "code",
   "execution_count": 17,
   "metadata": {},
   "outputs": [],
   "source": [
    "sigmoid = 1 / (1 + np.exp(X[1].dot(Y[1])))"
   ]
  },
  {
   "cell_type": "code",
   "execution_count": 18,
   "metadata": {},
   "outputs": [
    {
     "data": {
      "text/plain": [
       "0.49716809633990355"
      ]
     },
     "execution_count": 18,
     "metadata": {},
     "output_type": "execute_result"
    }
   ],
   "source": [
    "sigmoi"
   ]
  },
  {
   "cell_type": "code",
   "execution_count": 29,
   "metadata": {},
   "outputs": [],
   "source": [
    "import random\n",
    "u = random.choice(train.nonzero()[0])"
   ]
  },
  {
   "cell_type": "code",
   "execution_count": 30,
   "metadata": {},
   "outputs": [
    {
     "data": {
      "text/plain": [
       "677"
      ]
     },
     "execution_count": 30,
     "metadata": {},
     "output_type": "execute_result"
    }
   ],
   "source": [
    "u"
   ]
  },
  {
   "cell_type": "code",
   "execution_count": 36,
   "metadata": {},
   "outputs": [
    {
     "data": {
      "text/plain": [
       "array([  0,   0,   0, ..., 942, 942, 942])"
      ]
     },
     "execution_count": 36,
     "metadata": {},
     "output_type": "execute_result"
    }
   ],
   "source": [
    "train.nonzero()[0]"
   ]
  },
  {
   "cell_type": "code",
   "execution_count": 34,
   "metadata": {},
   "outputs": [
    {
     "data": {
      "text/plain": [
       "297"
      ]
     },
     "execution_count": 34,
     "metadata": {},
     "output_type": "execute_result"
    }
   ],
   "source": [
    "random.choice(train[u].nonzero()[0])"
   ]
  },
  {
   "cell_type": "code",
   "execution_count": 27,
   "metadata": {},
   "outputs": [],
   "source": [
    "x = random.choice(train[u].nonzero())"
   ]
  },
  {
   "cell_type": "code",
   "execution_count": 28,
   "metadata": {},
   "outputs": [
    {
     "data": {
      "text/plain": [
       "array([   0,    1,    3,    4,    6,    7,    8,   10,   11,   12,   14,\n",
       "         21,   23,   24,   27,   28,   30,   37,   42,   43,   46,   47,\n",
       "         48,   49,   51,   52,   53,   54,   55,   57,   61,   62,   63,\n",
       "         64,   65,   66,   68,   69,   70,   71,   72,   76,   78,   80,\n",
       "         81,   84,   85,   86,   87,   90,   92,   93,   94,   95,   96,\n",
       "         97,   98,   99,  101,  105,  107,  108,  110,  113,  115,  116,\n",
       "        117,  120,  122,  123,  124,  126,  127,  131,  132,  133,  135,\n",
       "        136,  139,  142,  143,  144,  150,  152,  156,  158,  160,  162,\n",
       "        163,  166,  167,  168,  171,  172,  173,  175,  177,  180,  181,\n",
       "        182,  183,  185,  187,  188,  189,  190,  193,  194,  195,  196,\n",
       "        199,  200,  201,  202,  203,  207,  208,  209,  213,  214,  215,\n",
       "        216,  217,  218,  221,  222,  224,  225,  226,  227,  228,  229,\n",
       "        230,  231,  233,  234,  236,  237,  238,  244,  249,  256,  257,\n",
       "        264,  272,  274,  275,  281,  282,  285,  287,  289,  293,  316,\n",
       "        317,  327,  332,  342,  348,  355,  356,  366,  372,  379,  381,\n",
       "        385,  390,  392,  393,  398,  400,  401,  402,  403,  404,  407,\n",
       "        417,  418,  421,  422,  431,  432,  442,  450,  464,  465,  469,\n",
       "        470,  471,  472,  473,  475,  482,  495,  500,  508,  510,  522,\n",
       "        525,  530,  540,  541,  545,  548,  549,  558,  560,  561,  562,\n",
       "        565,  567,  568,  576,  577,  587,  590,  595,  596,  602,  608,\n",
       "        618,  622,  624,  627,  628,  641,  650,  654,  657,  659,  662,\n",
       "        664,  671,  672,  677,  683,  684,  691,  692,  707,  709,  714,\n",
       "        715,  716,  719,  721,  728,  731,  733,  734,  735,  741,  746,\n",
       "        754,  767,  769,  774,  779,  780,  788,  793,  796,  799,  800,\n",
       "        804,  891,  929,  938,  950,  965,  968,  971,  992, 1015, 1032,\n",
       "       1043, 1046, 1100, 1108, 1111, 1118, 1134, 1139, 1207, 1209, 1216,\n",
       "       1227, 1247, 1283, 1302, 1411, 1424, 1445, 1530])"
      ]
     },
     "execution_count": 28,
     "metadata": {},
     "output_type": "execute_result"
    }
   ],
   "source": [
    "x"
   ]
  },
  {
   "cell_type": "code",
   "execution_count": null,
   "metadata": {},
   "outputs": [],
   "source": []
  }
 ],
 "metadata": {
  "kernelspec": {
   "display_name": "mf_v1",
   "language": "python",
   "name": "mf_v1"
  },
  "language_info": {
   "codemirror_mode": {
    "name": "ipython",
    "version": 3
   },
   "file_extension": ".py",
   "mimetype": "text/x-python",
   "name": "python",
   "nbconvert_exporter": "python",
   "pygments_lexer": "ipython3",
   "version": "3.7.9"
  }
 },
 "nbformat": 4,
 "nbformat_minor": 4
}
