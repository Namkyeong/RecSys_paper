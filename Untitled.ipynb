{
 "cells": [
  {
   "cell_type": "code",
   "execution_count": 68,
   "metadata": {},
   "outputs": [],
   "source": [
    "import numpy as np\n",
    "\n",
    "array = numpy.array([[4,2,7,1],[4,2,7,1]])\n",
    "order = array.argsort()\n",
    "ranks = order.argsort()"
   ]
  },
  {
   "cell_type": "code",
   "execution_count": 2,
   "metadata": {},
   "outputs": [
    {
     "data": {
      "text/plain": [
       "(array([0, 0, 0, 0, 1, 1, 1, 1]), array([0, 1, 2, 3, 0, 1, 2, 3]))"
      ]
     },
     "execution_count": 2,
     "metadata": {},
     "output_type": "execute_result"
    }
   ],
   "source": [
    "array.nonzero()"
   ]
  },
  {
   "cell_type": "code",
   "execution_count": 33,
   "metadata": {},
   "outputs": [],
   "source": [
    "order = [1, 0, 3]"
   ]
  },
  {
   "cell_type": "code",
   "execution_count": 34,
   "metadata": {},
   "outputs": [
    {
     "data": {
      "text/plain": [
       "array([2, 4, 1])"
      ]
     },
     "execution_count": 34,
     "metadata": {},
     "output_type": "execute_result"
    }
   ],
   "source": [
    "array[1, order]"
   ]
  },
  {
   "cell_type": "code",
   "execution_count": 7,
   "metadata": {},
   "outputs": [
    {
     "data": {
      "text/plain": [
       "2"
      ]
     },
     "execution_count": 7,
     "metadata": {},
     "output_type": "execute_result"
    }
   ],
   "source": [
    "len(array[1, order].argsort())"
   ]
  },
  {
   "cell_type": "code",
   "execution_count": 91,
   "metadata": {},
   "outputs": [],
   "source": [
    "import data\n",
    "train = data.train\n",
    "test = data.test"
   ]
  },
  {
   "cell_type": "code",
   "execution_count": 92,
   "metadata": {},
   "outputs": [],
   "source": [
    "num_users, num_items = train.shape"
   ]
  },
  {
   "cell_type": "code",
   "execution_count": 93,
   "metadata": {},
   "outputs": [],
   "source": [
    "X = np.random.normal(0, 0.1, size=(num_users, 40))\n",
    "Y = np.random.normal(0, 0.1, size=(num_items, 40))"
   ]
  },
  {
   "cell_type": "code",
   "execution_count": 94,
   "metadata": {},
   "outputs": [],
   "source": [
    "prediction = X.dot(Y.T)"
   ]
  },
  {
   "cell_type": "code",
   "execution_count": 95,
   "metadata": {},
   "outputs": [],
   "source": [
    "test_x = np.unique(test.nonzero()[0])"
   ]
  },
  {
   "cell_type": "code",
   "execution_count": 96,
   "metadata": {},
   "outputs": [],
   "source": [
    "temp_1 = 0\n",
    "temp_2 = 0"
   ]
  },
  {
   "cell_type": "code",
   "execution_count": 97,
   "metadata": {},
   "outputs": [],
   "source": [
    "temp_y = test[0].nonzero()"
   ]
  },
  {
   "cell_type": "code",
   "execution_count": 103,
   "metadata": {},
   "outputs": [
    {
     "data": {
      "text/plain": [
       "array([[ 24,  74,   1,   4,  97,  96, 100,  34,  68,  50,  88,  20,  89,\n",
       "         62,   7,  72,  26,  99, 108,  54,  14, 112, 111,  64,  60, 116,\n",
       "         82,  13,  63, 110,  51,  94,  36,  45, 128, 134,   5,  23,  41,\n",
       "         70,  39,  59,  79,  84,  31,  40,  57,  80,  69,  85,  22,  11,\n",
       "        129,   2, 135,  17,  76,  75,  28, 103,  73,  10, 101, 107,  90,\n",
       "        118,  83,  87,  37,  92,  65,  30, 123, 127,  43,   8, 121,  53,\n",
       "        122,  46, 120,  48,  67, 104,  77, 124, 119,  49,  91,  56, 105,\n",
       "         47,  38,   6,  12,  27,  32,  71,  16, 126, 132, 114,  78,  81,\n",
       "         66, 130,  29,  15,  98,  58,  52,  19,  25,  18,   0, 125,  86,\n",
       "        133, 102, 136,  21,   9, 131,  33, 109,   3,  55,  44,  42,  61,\n",
       "         93, 117,  35, 115, 106, 113,  95]])"
      ]
     },
     "execution_count": 103,
     "metadata": {},
     "output_type": "execute_result"
    }
   ],
   "source": [
    "sort_x = prediction[0, temp_y].argsort()\n",
    "rank_x = sort_x.argsort()\n",
    "rank_x"
   ]
  },
  {
   "cell_type": "code",
   "execution_count": 107,
   "metadata": {},
   "outputs": [],
   "source": [
    "inv_pre = -1 * prediction[0, temp_y]\n",
    "sort_x = inv_pre.argsort()\n",
    "sort_x = sort_x.argsort()\n",
    "rank_x = sort_x / len(sort_x[0])"
   ]
  },
  {
   "cell_type": "code",
   "execution_count": 108,
   "metadata": {},
   "outputs": [
    {
     "data": {
      "text/plain": [
       "array([[0.81751825, 0.45255474, 0.98540146, 0.96350365, 0.28467153,\n",
       "        0.2919708 , 0.26277372, 0.74452555, 0.49635036, 0.62773723,\n",
       "        0.35036496, 0.84671533, 0.34306569, 0.54014599, 0.94160584,\n",
       "        0.46715328, 0.80291971, 0.27007299, 0.20437956, 0.59854015,\n",
       "        0.89051095, 0.17518248, 0.18248175, 0.52554745, 0.55474453,\n",
       "        0.1459854 , 0.39416058, 0.89781022, 0.53284672, 0.18978102,\n",
       "        0.62043796, 0.30656934, 0.72992701, 0.66423358, 0.05839416,\n",
       "        0.01459854, 0.95620438, 0.82481752, 0.69343066, 0.48175182,\n",
       "        0.7080292 , 0.5620438 , 0.41605839, 0.37956204, 0.76642336,\n",
       "        0.70072993, 0.57664234, 0.40875912, 0.48905109, 0.37226277,\n",
       "        0.83211679, 0.91240876, 0.05109489, 0.97810219, 0.00729927,\n",
       "        0.86861314, 0.4379562 , 0.44525547, 0.78832117, 0.24087591,\n",
       "        0.45985401, 0.91970803, 0.25547445, 0.21167883, 0.33576642,\n",
       "        0.13138686, 0.38686131, 0.35766423, 0.72262774, 0.32116788,\n",
       "        0.51824818, 0.77372263, 0.09489051, 0.06569343, 0.67883212,\n",
       "        0.93430657, 0.10948905, 0.60583942, 0.10218978, 0.65693431,\n",
       "        0.11678832, 0.64233577, 0.50364964, 0.23357664, 0.43065693,\n",
       "        0.08759124, 0.12408759, 0.6350365 , 0.32846715, 0.58394161,\n",
       "        0.22627737, 0.64963504, 0.71532847, 0.94890511, 0.90510949,\n",
       "        0.79562044, 0.75912409, 0.47445255, 0.87591241, 0.0729927 ,\n",
       "        0.02919708, 0.16058394, 0.42335766, 0.40145985, 0.51094891,\n",
       "        0.04379562, 0.7810219 , 0.88321168, 0.27737226, 0.56934307,\n",
       "        0.61313869, 0.8540146 , 0.81021898, 0.86131387, 0.99270073,\n",
       "        0.08029197, 0.3649635 , 0.02189781, 0.24817518, 0.        ,\n",
       "        0.83941606, 0.9270073 , 0.03649635, 0.75182482, 0.19708029,\n",
       "        0.97080292, 0.59124088, 0.67153285, 0.68613139, 0.54744526,\n",
       "        0.31386861, 0.13868613, 0.73722628, 0.15328467, 0.2189781 ,\n",
       "        0.16788321, 0.29927007]])"
      ]
     },
     "execution_count": 108,
     "metadata": {},
     "output_type": "execute_result"
    }
   ],
   "source": [
    "rank_x"
   ]
  },
  {
   "cell_type": "code",
   "execution_count": 111,
   "metadata": {},
   "outputs": [
    {
     "data": {
      "text/plain": [
       "244.59854014598542"
      ]
     },
     "execution_count": 111,
     "metadata": {},
     "output_type": "execute_result"
    }
   ],
   "source": [
    "(test[0, temp_y] * rank_x).sum()"
   ]
  },
  {
   "cell_type": "code",
   "execution_count": 112,
   "metadata": {},
   "outputs": [
    {
     "data": {
      "text/plain": [
       "485.0"
      ]
     },
     "execution_count": 112,
     "metadata": {},
     "output_type": "execute_result"
    }
   ],
   "source": [
    "test[0, temp_y].sum()"
   ]
  },
  {
   "cell_type": "code",
   "execution_count": null,
   "metadata": {},
   "outputs": [],
   "source": []
  }
 ],
 "metadata": {
  "kernelspec": {
   "display_name": "mf_v1",
   "language": "python",
   "name": "mf_v1"
  },
  "language_info": {
   "codemirror_mode": {
    "name": "ipython",
    "version": 3
   },
   "file_extension": ".py",
   "mimetype": "text/x-python",
   "name": "python",
   "nbconvert_exporter": "python",
   "pygments_lexer": "ipython3",
   "version": "3.7.9"
  }
 },
 "nbformat": 4,
 "nbformat_minor": 4
}
