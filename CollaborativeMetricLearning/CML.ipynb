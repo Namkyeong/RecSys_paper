{
 "cells": [
  {
   "cell_type": "code",
   "execution_count": 1,
   "metadata": {},
   "outputs": [],
   "source": [
    "import dataframe"
   ]
  },
  {
   "cell_type": "code",
   "execution_count": 2,
   "metadata": {},
   "outputs": [],
   "source": [
    "import numpy as np\n",
    "import pandas as pd\n",
    "import random\n",
    "from timeit import default_timer as timer"
   ]
  },
  {
   "cell_type": "code",
   "execution_count": 3,
   "metadata": {},
   "outputs": [],
   "source": [
    "import torch\n",
    "import torch.nn as nn\n",
    "import torch.optim as optim\n",
    "from torch.utils.data import DataLoader, Dataset"
   ]
  },
  {
   "cell_type": "code",
   "execution_count": 4,
   "metadata": {},
   "outputs": [],
   "source": [
    "# Select GPU Number\n",
    "import os\n",
    "os.environ[\"CUDA_VISIBLE_DEVICES\"] = \"2\""
   ]
  },
  {
   "cell_type": "code",
   "execution_count": 5,
   "metadata": {},
   "outputs": [
    {
     "data": {
      "text/plain": [
       "'cuda'"
      ]
     },
     "execution_count": 5,
     "metadata": {},
     "output_type": "execute_result"
    }
   ],
   "source": [
    "# check if cuda available\n",
    "device = \"cuda\" if torch.cuda.is_available() else \"cpu\"\n",
    "\n",
    "torch.manual_seed(315)\n",
    "if device == \"cuda\":\n",
    "    torch.cuda.manual_seed_all(912)\n",
    "\n",
    "device"
   ]
  },
  {
   "cell_type": "code",
   "execution_count": 6,
   "metadata": {},
   "outputs": [],
   "source": [
    "train = dataframe.train\n",
    "test = dataframe.test\n",
    "ratings = dataframe.ratings"
   ]
  },
  {
   "cell_type": "code",
   "execution_count": 7,
   "metadata": {},
   "outputs": [],
   "source": [
    "user_pool = set(train[\"userId\"].unique()) # 6040\n",
    "item_pool = set(train[\"itemId\"].unique()) # 3706\n",
    "interact_status = train.groupby(\"userId\")[\"itemId\"].apply(set).reset_index().rename(columns = {\"itemId\" : \"interacted_items\"})\n",
    "interact_status[\"negative_items\"] = interact_status[\"interacted_items\"].apply(lambda x: item_pool - x)\n",
    "train_loader = pd.merge(train, interact_status, on=\"userId\")\n",
    "train_loader[\"negatives\"] = train_loader[\"negative_items\"].apply(lambda x: random.sample(x, 10))"
   ]
  },
  {
   "cell_type": "code",
   "execution_count": 8,
   "metadata": {},
   "outputs": [],
   "source": [
    "users, items, neg_items = [], [], []\n",
    "for row in train_loader.itertuples():\n",
    "    users.append(int(row.userId))\n",
    "    items.append(int(row.itemId))\n",
    "    neg_items.append(row.negatives)"
   ]
  },
  {
   "cell_type": "code",
   "execution_count": 9,
   "metadata": {},
   "outputs": [],
   "source": [
    "class RatingDataset(Dataset):\n",
    "    \"\"\"\n",
    "    torch.utils.data.Dataset 상속\n",
    "    \"\"\"\n",
    "    def __init__(self, user_tensor, item_tensor, neg_item_list):\n",
    "        self.user_tensor = user_tensor\n",
    "        self.item_tensor = item_tensor\n",
    "        self.neg_items = neg_item_list\n",
    "        \n",
    "    def __len__(self):\n",
    "        return self.user_tensor.size(0)\n",
    "    \n",
    "    def __getitem__(self, index):\n",
    "        return self.user_tensor[index], self.item_tensor[index], self.neg_items[index]"
   ]
  },
  {
   "cell_type": "code",
   "execution_count": 10,
   "metadata": {},
   "outputs": [],
   "source": [
    "dataset = RatingDataset(user_tensor = torch.LongTensor(users),\n",
    "                        item_tensor = torch.LongTensor(items),\n",
    "                        neg_item_list = torch.LongTensor(neg_items))"
   ]
  },
  {
   "cell_type": "code",
   "execution_count": 11,
   "metadata": {},
   "outputs": [],
   "source": [
    "# create test set\n",
    "test_user, test_item = [], []\n",
    "for i in range(len(test)):\n",
    "    test_user.append(test[\"userId\"][i])\n",
    "    test_item.append(test[\"itemId\"][i])"
   ]
  },
  {
   "cell_type": "code",
   "execution_count": 12,
   "metadata": {},
   "outputs": [],
   "source": [
    "class CML(nn.Module):\n",
    "    \n",
    "    def __init__(self, config):\n",
    "        \n",
    "        super(CML, self).__init__()\n",
    "        self.config = config\n",
    "        self.num_users = config[\"num_users\"]\n",
    "        self.num_items = config[\"num_items\"]\n",
    "        self.latent_dim = config[\"latent_dim\"]\n",
    "        self.margin = config[\"margin\"]\n",
    "        self.lambda_c = config[\"lambda_c\"]\n",
    "        \n",
    "        self.user_embedding = nn.Embedding(self.num_users, self.latent_dim, max_norm = 1) # restrict norms\n",
    "        self.item_embedding = nn.Embedding(self.num_items, self.latent_dim, max_norm = 1)\n",
    "        \n",
    "    \n",
    "    def distance_loss(self, i, j, k):\n",
    "        \"\"\"\n",
    "        compute distance loss\n",
    "        \"\"\"\n",
    "        \n",
    "        user = self.user_embedding(i).view(len(i), 1, self.latent_dim) # batchsize, X, latent_dim\n",
    "        item = self.item_embedding(j).view(len(i), 1, self.latent_dim)\n",
    "        neg_item = self.item_embedding(k)\n",
    "        d_ij = torch.cdist(user, item).view(-1, 1)**2 #(1024, 1)\n",
    "        d_ik = torch.cdist(user, neg_item).view(-1, 10)**2 #(1024, 10)\n",
    "        \n",
    "        metric = self.margin + d_ij - d_ik # (1024, 10)\n",
    "        loss = 0\n",
    "        for i in range(len(metric)):\n",
    "            temp_metric = metric[i][metric[i]>0]\n",
    "            rank_d_ij = 3676 * len(temp_metric) / 10\n",
    "            w_ij = np.log(rank_d_ij + 1)\n",
    "            loss +=  (w_ij * temp_metric).sum()\n",
    "        \n",
    "        return loss\n",
    "    \n",
    "    \n",
    "    def cov_loss(self):\n",
    "        \n",
    "        self.U = self.user_embedding(torch.LongTensor([x for x in range(self.num_users)]).cuda())\n",
    "        self.V = self.item_embedding(torch.LongTensor([x for x in range(self.num_items)]).cuda())\n",
    "        \n",
    "        matrix = torch.cat([self.U, self.V])\n",
    "        n_rows = matrix.shape[0]\n",
    "        matrix = matrix - torch.mean(matrix, dim=0)\n",
    "        cov = torch.matmul(matrix.T, matrix) / n_rows\n",
    "        loss = (torch.linalg.norm(cov) - torch.linalg.norm(torch.diagonal(cov),2))/self.num_users\n",
    "        \n",
    "        return loss * self.lambda_c\n",
    "    \n",
    "    \n",
    "    def evaluate(self, train_user, train_item, test_user, test_item):\n",
    "        \n",
    "        self.U = self.user_embedding(torch.LongTensor([x for x in range(self.num_users)]).cuda())\n",
    "        self.V = self.item_embedding(torch.LongTensor([x for x in range(self.num_items)]).cuda())\n",
    "        \n",
    "        x = torch.cdist(self.U, self.V)\n",
    "        for i, j in zip(train_user, train_item):\n",
    "            x[i, j] = 100\n",
    "        _, indices = x.topk(50, largest = False)\n",
    "        indices = indices.cpu().detach().numpy()\n",
    "        hit = 0\n",
    "        count = 0\n",
    "        for i in range(len(test_user)):\n",
    "            count += 1\n",
    "            if test_item[i] in indices[test_user[i]]:\n",
    "                hit += 1\n",
    "        \n",
    "        return hit/count\n",
    "        "
   ]
  },
  {
   "cell_type": "code",
   "execution_count": 13,
   "metadata": {},
   "outputs": [],
   "source": [
    "CML_config = {\n",
    "    \"num_users\" : 6040,\n",
    "    \"num_items\" : 3706,\n",
    "    \"latent_dim\" : 64,\n",
    "    \"margin\" : 0.5,\n",
    "    \"lambda_c\": 10\n",
    "}"
   ]
  },
  {
   "cell_type": "code",
   "execution_count": 14,
   "metadata": {},
   "outputs": [],
   "source": [
    "model = CML(CML_config).cuda()\n",
    "optimizer = optim.Adagrad(model.parameters(), lr=0.01)"
   ]
  },
  {
   "cell_type": "code",
   "execution_count": 16,
   "metadata": {},
   "outputs": [
    {
     "name": "stdout",
     "output_type": "stream",
     "text": [
      "epoch = 1, total_loss = 13378622.1079, recall@50 = 0.1196, epoch_time = 326.1814sec\n",
      "epoch = 2, total_loss = 12666869.5400, recall@50 = 0.1214, epoch_time = 326.2458sec\n",
      "epoch = 3, total_loss = 12172309.0938, recall@50 = 0.1269, epoch_time = 324.8080sec\n",
      "epoch = 4, total_loss = 11735678.8247, recall@50 = 0.1374, epoch_time = 324.3977sec\n",
      "epoch = 5, total_loss = 11311266.4707, recall@50 = 0.1494, epoch_time = 324.3144sec\n",
      "epoch = 6, total_loss = 10884358.3149, recall@50 = 0.1619, epoch_time = 325.5522sec\n",
      "epoch = 7, total_loss = 10456512.7041, recall@50 = 0.1736, epoch_time = 324.7538sec\n",
      "epoch = 8, total_loss = 10036451.0552, recall@50 = 0.1838, epoch_time = 325.9228sec\n",
      "epoch = 9, total_loss = 9634979.2900, recall@50 = 0.1923, epoch_time = 324.7940sec\n",
      "epoch = 10, total_loss = 9261420.7554, recall@50 = 0.1995, epoch_time = 326.7753sec\n",
      "epoch = 11, total_loss = 8920677.0181, recall@50 = 0.2059, epoch_time = 325.6648sec\n",
      "epoch = 12, total_loss = 8613178.1440, recall@50 = 0.2115, epoch_time = 324.7607sec\n",
      "epoch = 13, total_loss = 8336945.7393, recall@50 = 0.2162, epoch_time = 325.1240sec\n",
      "epoch = 14, total_loss = 8088659.5117, recall@50 = 0.2203, epoch_time = 323.3107sec\n",
      "epoch = 15, total_loss = 7865371.8105, recall@50 = 0.2243, epoch_time = 322.9182sec\n",
      "epoch = 16, total_loss = 7663833.3857, recall@50 = 0.2277, epoch_time = 324.0395sec\n",
      "epoch = 17, total_loss = 7481108.6433, recall@50 = 0.2310, epoch_time = 323.9620sec\n",
      "epoch = 18, total_loss = 7315098.3372, recall@50 = 0.2338, epoch_time = 324.0905sec\n",
      "epoch = 19, total_loss = 7163936.9854, recall@50 = 0.2368, epoch_time = 325.4550sec\n",
      "epoch = 20, total_loss = 7025416.2234, recall@50 = 0.2391, epoch_time = 323.0395sec\n",
      "epoch = 21, total_loss = 6897816.6978, recall@50 = 0.2414, epoch_time = 325.2887sec\n",
      "epoch = 22, total_loss = 6780045.7476, recall@50 = 0.2433, epoch_time = 323.6973sec\n",
      "epoch = 23, total_loss = 6671175.6506, recall@50 = 0.2453, epoch_time = 321.5180sec\n",
      "epoch = 24, total_loss = 6570094.9795, recall@50 = 0.2473, epoch_time = 323.9747sec\n",
      "epoch = 25, total_loss = 6476336.4939, recall@50 = 0.2492, epoch_time = 324.4898sec\n",
      "epoch = 26, total_loss = 6388879.1865, recall@50 = 0.2508, epoch_time = 322.4500sec\n",
      "epoch = 27, total_loss = 6306968.2703, recall@50 = 0.2525, epoch_time = 321.7487sec\n",
      "epoch = 28, total_loss = 6230331.2009, recall@50 = 0.2540, epoch_time = 322.2966sec\n",
      "epoch = 29, total_loss = 6158135.0554, recall@50 = 0.2554, epoch_time = 326.0613sec\n",
      "epoch = 30, total_loss = 6090280.7729, recall@50 = 0.2568, epoch_time = 328.7381sec\n",
      "epoch = 31, total_loss = 6026166.8911, recall@50 = 0.2581, epoch_time = 333.5959sec\n",
      "epoch = 32, total_loss = 5965725.8977, recall@50 = 0.2596, epoch_time = 331.9341sec\n",
      "epoch = 33, total_loss = 5908610.6804, recall@50 = 0.2608, epoch_time = 322.1952sec\n",
      "epoch = 34, total_loss = 5854420.4011, recall@50 = 0.2621, epoch_time = 311.4726sec\n",
      "epoch = 35, total_loss = 5802857.1335, recall@50 = 0.2632, epoch_time = 345.3946sec\n",
      "epoch = 36, total_loss = 5754022.5605, recall@50 = 0.2642, epoch_time = 313.0602sec\n",
      "epoch = 37, total_loss = 5707392.5779, recall@50 = 0.2652, epoch_time = 311.9841sec\n",
      "epoch = 38, total_loss = 5663056.2070, recall@50 = 0.2662, epoch_time = 311.8053sec\n",
      "epoch = 39, total_loss = 5620726.1960, recall@50 = 0.2671, epoch_time = 312.4779sec\n",
      "epoch = 40, total_loss = 5580187.2119, recall@50 = 0.2680, epoch_time = 312.3495sec\n",
      "epoch = 41, total_loss = 5541429.2126, recall@50 = 0.2687, epoch_time = 312.9502sec\n",
      "epoch = 42, total_loss = 5504425.7871, recall@50 = 0.2696, epoch_time = 311.1022sec\n",
      "epoch = 43, total_loss = 5468753.7231, recall@50 = 0.2703, epoch_time = 311.4243sec\n",
      "epoch = 44, total_loss = 5434743.6504, recall@50 = 0.2710, epoch_time = 311.1011sec\n",
      "epoch = 45, total_loss = 5401887.4968, recall@50 = 0.2718, epoch_time = 311.1295sec\n",
      "epoch = 46, total_loss = 5370344.2004, recall@50 = 0.2726, epoch_time = 311.2168sec\n",
      "epoch = 47, total_loss = 5339910.6707, recall@50 = 0.2732, epoch_time = 311.5015sec\n",
      "epoch = 48, total_loss = 5310655.5747, recall@50 = 0.2737, epoch_time = 311.0409sec\n",
      "epoch = 49, total_loss = 5282369.8357, recall@50 = 0.2743, epoch_time = 310.6700sec\n",
      "epoch = 50, total_loss = 5255305.2751, recall@50 = 0.2750, epoch_time = 311.2138sec\n",
      "epoch = 51, total_loss = 5228976.9727, recall@50 = 0.2754, epoch_time = 312.1054sec\n",
      "epoch = 52, total_loss = 5203424.3606, recall@50 = 0.2761, epoch_time = 311.8535sec\n",
      "epoch = 53, total_loss = 5178795.6780, recall@50 = 0.2768, epoch_time = 312.4451sec\n",
      "epoch = 54, total_loss = 5155123.1641, recall@50 = 0.2771, epoch_time = 311.1639sec\n",
      "epoch = 55, total_loss = 5131897.2000, recall@50 = 0.2777, epoch_time = 311.0886sec\n",
      "epoch = 56, total_loss = 5109525.3157, recall@50 = 0.2782, epoch_time = 311.1516sec\n",
      "epoch = 57, total_loss = 5087923.1912, recall@50 = 0.2786, epoch_time = 311.0332sec\n",
      "epoch = 58, total_loss = 5066710.1726, recall@50 = 0.2790, epoch_time = 311.1432sec\n",
      "epoch = 59, total_loss = 5046351.7412, recall@50 = 0.2793, epoch_time = 316.0166sec\n",
      "epoch = 60, total_loss = 5026536.7729, recall@50 = 0.2798, epoch_time = 316.1686sec\n",
      "epoch = 61, total_loss = 5007307.3464, recall@50 = 0.2802, epoch_time = 315.8488sec\n",
      "epoch = 62, total_loss = 4988681.1587, recall@50 = 0.2806, epoch_time = 314.5216sec\n",
      "epoch = 63, total_loss = 4970379.0703, recall@50 = 0.2811, epoch_time = 314.7998sec\n",
      "epoch = 64, total_loss = 4952696.6648, recall@50 = 0.2815, epoch_time = 311.4604sec\n",
      "epoch = 65, total_loss = 4935336.8896, recall@50 = 0.2818, epoch_time = 309.4662sec\n",
      "epoch = 66, total_loss = 4918726.4460, recall@50 = 0.2821, epoch_time = 311.0671sec\n",
      "epoch = 67, total_loss = 4902300.3003, recall@50 = 0.2825, epoch_time = 311.4528sec\n",
      "epoch = 68, total_loss = 4886272.3247, recall@50 = 0.2828, epoch_time = 311.2712sec\n",
      "epoch = 69, total_loss = 4870738.6301, recall@50 = 0.2830, epoch_time = 311.5309sec\n",
      "epoch = 70, total_loss = 4855592.2590, recall@50 = 0.2835, epoch_time = 311.1892sec\n",
      "epoch = 71, total_loss = 4840673.3345, recall@50 = 0.2839, epoch_time = 310.6506sec\n",
      "epoch = 72, total_loss = 4826213.6953, recall@50 = 0.2840, epoch_time = 310.6136sec\n",
      "epoch = 73, total_loss = 4812038.7026, recall@50 = 0.2843, epoch_time = 310.5824sec\n",
      "epoch = 74, total_loss = 4798444.2017, recall@50 = 0.2846, epoch_time = 310.0224sec\n",
      "epoch = 75, total_loss = 4784886.7625, recall@50 = 0.2849, epoch_time = 309.6944sec\n",
      "epoch = 76, total_loss = 4771743.6396, recall@50 = 0.2851, epoch_time = 308.9390sec\n",
      "epoch = 77, total_loss = 4758888.7556, recall@50 = 0.2855, epoch_time = 309.4585sec\n",
      "epoch = 78, total_loss = 4746365.2407, recall@50 = 0.2858, epoch_time = 310.0244sec\n",
      "epoch = 79, total_loss = 4733982.6438, recall@50 = 0.2859, epoch_time = 311.4196sec\n",
      "epoch = 80, total_loss = 4722058.4480, recall@50 = 0.2863, epoch_time = 310.1824sec\n",
      "epoch = 81, total_loss = 4710279.4792, recall@50 = 0.2864, epoch_time = 310.1853sec\n",
      "epoch = 82, total_loss = 4698678.7329, recall@50 = 0.2868, epoch_time = 311.3194sec\n",
      "epoch = 83, total_loss = 4687589.2393, recall@50 = 0.2870, epoch_time = 310.0536sec\n",
      "epoch = 84, total_loss = 4676294.8943, recall@50 = 0.2873, epoch_time = 308.9796sec\n",
      "epoch = 85, total_loss = 4665626.1821, recall@50 = 0.2875, epoch_time = 309.2280sec\n",
      "epoch = 86, total_loss = 4655008.9336, recall@50 = 0.2877, epoch_time = 312.6480sec\n",
      "epoch = 87, total_loss = 4644610.0537, recall@50 = 0.2879, epoch_time = 312.9142sec\n",
      "epoch = 88, total_loss = 4634410.9351, recall@50 = 0.2882, epoch_time = 311.8116sec\n",
      "epoch = 89, total_loss = 4624451.8835, recall@50 = 0.2884, epoch_time = 313.0734sec\n",
      "epoch = 90, total_loss = 4614717.1953, recall@50 = 0.2886, epoch_time = 312.7704sec\n",
      "epoch = 91, total_loss = 4604984.2268, recall@50 = 0.2887, epoch_time = 312.3384sec\n",
      "epoch = 92, total_loss = 4595655.7595, recall@50 = 0.2890, epoch_time = 311.1430sec\n",
      "epoch = 93, total_loss = 4586416.5789, recall@50 = 0.2890, epoch_time = 311.5200sec\n",
      "epoch = 94, total_loss = 4577290.6157, recall@50 = 0.2892, epoch_time = 311.3947sec\n",
      "epoch = 95, total_loss = 4568372.2312, recall@50 = 0.2892, epoch_time = 311.0638sec\n",
      "epoch = 96, total_loss = 4559632.8411, recall@50 = 0.2894, epoch_time = 311.1288sec\n",
      "epoch = 97, total_loss = 4551108.1831, recall@50 = 0.2897, epoch_time = 311.5463sec\n",
      "epoch = 98, total_loss = 4542630.8022, recall@50 = 0.2898, epoch_time = 311.3622sec\n",
      "epoch = 99, total_loss = 4534353.3130, recall@50 = 0.2900, epoch_time = 311.5939sec\n",
      "epoch = 100, total_loss = 4526162.8171, recall@50 = 0.2902, epoch_time = 311.5653sec\n"
     ]
    }
   ],
   "source": [
    "num_epochs = 100\n",
    "training_process = []\n",
    "# epoch\n",
    "for epoch_id in range(1, num_epochs + 1):\n",
    "    train_loader = DataLoader(dataset, batch_size = 1024, shuffle = True)\n",
    "    start_epoch = timer()\n",
    "    model.train()\n",
    "    total_loss = 0\n",
    "    for batch_idx, batch in enumerate(train_loader):\n",
    "        user, item, neg_items = batch[0], batch[1], batch[2]\n",
    "        user, item, neg_items = user.cuda(), item.cuda(), neg_items.cuda()\n",
    "        \n",
    "        optimizer.zero_grad()\n",
    "        loss = model.distance_loss(user, item, neg_items) + model.cov_loss()\n",
    "        loss.backward()\n",
    "        optimizer.step()\n",
    "        total_loss += loss.item()\n",
    "    \n",
    "    model.eval()\n",
    "    recall_50 = model.evaluate(users, items, test_user, test_item)\n",
    "    training_process.append([epoch_id, recall_50])\n",
    "    print(\"epoch = {:d}, total_loss = {:.4f}, recall@50 = {:.4f}, epoch_time = {:.4f}sec\".format(epoch_id, total_loss, recall_50, timer()-start_epoch))"
   ]
  }
 ],
 "metadata": {
  "kernelspec": {
   "display_name": "mf_v1",
   "language": "python",
   "name": "mf_v1"
  },
  "language_info": {
   "codemirror_mode": {
    "name": "ipython",
    "version": 3
   },
   "file_extension": ".py",
   "mimetype": "text/x-python",
   "name": "python",
   "nbconvert_exporter": "python",
   "pygments_lexer": "ipython3",
   "version": "3.7.9"
  }
 },
 "nbformat": 4,
 "nbformat_minor": 4
}
