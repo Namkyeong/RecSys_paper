{
 "cells": [
  {
   "cell_type": "code",
   "execution_count": 1,
   "metadata": {},
   "outputs": [],
   "source": [
    "import pandas as pd\n",
    "import numpy as np\n",
    "from sklearn.model_selection import train_test_split"
   ]
  },
  {
   "cell_type": "code",
   "execution_count": 2,
   "metadata": {},
   "outputs": [],
   "source": [
    "ratings_data = pd.read_csv(\"ratings_data.txt\", names=[\"userId\", \"itemId\", \"ratings\"], sep=\" \")\n",
    "trust_data = pd.read_csv(\"trust_data.txt\", names=[\"fromId\", \"toId\", \"trust\"], sep = \" \")"
   ]
  },
  {
   "cell_type": "code",
   "execution_count": 3,
   "metadata": {},
   "outputs": [],
   "source": [
    "train_data, test_data = train_test_split(ratings_data, test_size = 0.2, random_state = 315)"
   ]
  },
  {
   "cell_type": "code",
   "execution_count": 4,
   "metadata": {},
   "outputs": [],
   "source": [
    "n_users = ratings_data.userId.unique().shape[0]\n",
    "n_items = ratings_data.itemId.unique().shape[0]\n",
    "\n",
    "epinions = np.zeros((49289, n_items))\n",
    "train = np.zeros((49289, n_items))\n",
    "test = np.zeros((49289, n_items))"
   ]
  },
  {
   "cell_type": "code",
   "execution_count": 6,
   "metadata": {},
   "outputs": [],
   "source": [
    "for row in ratings_data.itertuples():\n",
    "    epinions[row[1]-1, row[2]-1] = row[3]\n",
    "\n",
    "for row in train_data.itertuples():\n",
    "    train[row[1]-1, row[2]-1] = row[3]\n",
    "    \n",
    "for row in test_data.itertuples():\n",
    "    test[row[1]-1, row[2]-1] = row[3]"
   ]
  }
 ],
 "metadata": {
  "kernelspec": {
   "display_name": "RecSys_v1",
   "language": "python",
   "name": "recsys_v1"
  },
  "language_info": {
   "codemirror_mode": {
    "name": "ipython",
    "version": 3
   },
   "file_extension": ".py",
   "mimetype": "text/x-python",
   "name": "python",
   "nbconvert_exporter": "python",
   "pygments_lexer": "ipython3",
   "version": "3.7.9"
  }
 },
 "nbformat": 4,
 "nbformat_minor": 4
}
