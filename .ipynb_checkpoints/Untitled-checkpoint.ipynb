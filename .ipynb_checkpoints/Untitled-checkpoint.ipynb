{
 "cells": [
  {
   "cell_type": "code",
   "execution_count": 68,
   "metadata": {},
   "outputs": [],
   "source": [
    "import numpy as np\n",
    "\n",
    "array = numpy.array([[4,2,7,1],[4,2,7,1]])\n",
    "order = array.argsort()\n",
    "ranks = order.argsort()"
   ]
  },
  {
   "cell_type": "code",
   "execution_count": 2,
   "metadata": {},
   "outputs": [
    {
     "data": {
      "text/plain": [
       "(array([0, 0, 0, 0, 1, 1, 1, 1]), array([0, 1, 2, 3, 0, 1, 2, 3]))"
      ]
     },
     "execution_count": 2,
     "metadata": {},
     "output_type": "execute_result"
    }
   ],
   "source": [
    "array.nonzero()"
   ]
  },
  {
   "cell_type": "code",
   "execution_count": 33,
   "metadata": {},
   "outputs": [],
   "source": [
    "order = [1, 0, 3]"
   ]
  },
  {
   "cell_type": "code",
   "execution_count": 34,
   "metadata": {},
   "outputs": [
    {
     "data": {
      "text/plain": [
       "array([2, 4, 1])"
      ]
     },
     "execution_count": 34,
     "metadata": {},
     "output_type": "execute_result"
    }
   ],
   "source": [
    "array[1, order]"
   ]
  },
  {
   "cell_type": "code",
   "execution_count": 7,
   "metadata": {},
   "outputs": [
    {
     "data": {
      "text/plain": [
       "2"
      ]
     },
     "execution_count": 7,
     "metadata": {},
     "output_type": "execute_result"
    }
   ],
   "source": [
    "len(array[1, order].argsort())"
   ]
  },
  {
   "cell_type": "code",
   "execution_count": 91,
   "metadata": {},
   "outputs": [],
   "source": [
    "import data\n",
    "train = data.train\n",
    "test = data.test"
   ]
  },
  {
   "cell_type": "code",
   "execution_count": 92,
   "metadata": {},
   "outputs": [],
   "source": [
    "num_users, num_items = train.shape"
   ]
  },
  {
   "cell_type": "code",
   "execution_count": 93,
   "metadata": {},
   "outputs": [],
   "source": [
    "X = np.random.normal(0, 0.1, size=(num_users, 40))\n",
    "Y = np.random.normal(0, 0.1, size=(num_items, 40))"
   ]
  },
  {
   "cell_type": "code",
   "execution_count": 94,
   "metadata": {},
   "outputs": [],
   "source": [
    "prediction = X.dot(Y.T)"
   ]
  },
  {
   "cell_type": "code",
   "execution_count": 95,
   "metadata": {},
   "outputs": [],
   "source": [
    "test_x = np.unique(test.nonzero()[0])"
   ]
  },
  {
   "cell_type": "code",
   "execution_count": 96,
   "metadata": {},
   "outputs": [],
   "source": [
    "temp_1 = 0\n",
    "temp_2 = 0"
   ]
  },
  {
   "cell_type": "code",
   "execution_count": 97,
   "metadata": {},
   "outputs": [],
   "source": [
    "temp_y = test[0].nonzero()"
   ]
  },
  {
   "cell_type": "code",
   "execution_count": 86,
   "metadata": {},
   "outputs": [
    {
     "data": {
      "text/plain": [
       "array([[ 50, 106,  34,  51,  96,  67,  49,  80,  58,  55, 125,  23,  39,\n",
       "         74,  86,  21,  78, 100,  90,  12,   1,  42,  57,  30,  29, 107,\n",
       "         92,  15, 132, 136,  47, 129,  46,  68,  72, 121,   7, 127, 126,\n",
       "         84,  22, 113,  20,  35,  13,  25,  31,  99, 104,  83, 114,   5,\n",
       "         63,  24, 108, 103, 122,  38,  75,  69,  71,   2,  93, 120, 123,\n",
       "        130, 110, 111,  59,  28,  40,  33,   8,  54, 116, 131, 115, 112,\n",
       "        135,  43,  85,   4, 134,  61,  60, 117,  73,  27,  77, 119, 102,\n",
       "         52,  79,  53,  89,  62,  70, 101,  98,  81,   9,  16, 118,  65,\n",
       "         56,   6,   0,   3,  41,  10,  64,  82,  11,  36,  95,  26,  94,\n",
       "         66,  44, 128,  37,  91,  48,  87,  17,  19, 133,  14, 109,  18,\n",
       "         76, 105,  97, 124,  32,  45,  88]])"
      ]
     },
     "execution_count": 86,
     "metadata": {},
     "output_type": "execute_result"
    }
   ],
   "source": [
    "\n",
    "sort_x = prediction[x, temp_y].argsort()\n",
    "rank_x = sort_x.argsort()\n",
    "rank_x"
   ]
  },
  {
   "cell_type": "code",
   "execution_count": null,
   "metadata": {},
   "outputs": [],
   "source": [
    "inv_pre = -1 * prediction[x, temp_y]\n",
    "sort_x = inv_pre.argsort()\n",
    "rank_x = sort_x.argsort()\n",
    "rank_x"
   ]
  }
 ],
 "metadata": {
  "kernelspec": {
   "display_name": "mf_v1",
   "language": "python",
   "name": "mf_v1"
  },
  "language_info": {
   "codemirror_mode": {
    "name": "ipython",
    "version": 3
   },
   "file_extension": ".py",
   "mimetype": "text/x-python",
   "name": "python",
   "nbconvert_exporter": "python",
   "pygments_lexer": "ipython3",
   "version": "3.7.9"
  }
 },
 "nbformat": 4,
 "nbformat_minor": 4
}
