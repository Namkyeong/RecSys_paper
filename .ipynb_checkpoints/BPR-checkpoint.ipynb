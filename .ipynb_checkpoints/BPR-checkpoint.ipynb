{
 "cells": [
  {
   "cell_type": "markdown",
   "metadata": {},
   "source": [
    "## implementation of Bayesian Personalized Ranking for Implicit Feedback"
   ]
  },
  {
   "cell_type": "code",
   "execution_count": 1,
   "metadata": {},
   "outputs": [],
   "source": [
    "import numpy as np\n",
    "import data\n",
    "import random"
   ]
  },
  {
   "cell_type": "code",
   "execution_count": 2,
   "metadata": {},
   "outputs": [],
   "source": [
    "train = data.train\n",
    "test = data.test"
   ]
  },
  {
   "cell_type": "code",
   "execution_count": 5,
   "metadata": {},
   "outputs": [],
   "source": [
    "class MatrixFactorization():\n",
    "    \n",
    "    def __init__(self, train, test, k, learning_rate, reg_param, epsilon):\n",
    "        \"\"\"\n",
    "        param R : Rating Matrix\n",
    "        param k : latent parameter\n",
    "        param learning_rate : alpha on weight update\n",
    "        param reg_param : regularization parameter\n",
    "        \"\"\"\n",
    "        \n",
    "        self._R = train\n",
    "        self._test = test\n",
    "        self._X = np.array(np.vectorize(lambda x: 0 if x==0 else 1)(train), dtype = np.float64) # create X matrix : implicit feedbacks (binary)\n",
    "        self._num_users, self._num_items = train.shape\n",
    "        self._k = k\n",
    "        self._learning_rate = learning_rate\n",
    "        self._reg_param = reg_param\n",
    "        self._epsilon = epsilon\n",
    "        \n",
    "        \n",
    "    def fit(self):\n",
    "        \"\"\"\n",
    "        training Matrix Factorization : update matrix latent weight and bias\n",
    "        \"\"\"\n",
    "        \n",
    "        # init latent features\n",
    "        self._W = np.random.normal(scale = 1.0/self._k, size=(self._num_users, self._k))\n",
    "        self._H = np.random.normal(scale = 1.0/self._k, size=(self._num_items, self._k))\n",
    "        \n",
    "        \n",
    "        # train until cost converges\n",
    "        count = 0\n",
    "        self._training_process = []\n",
    "        \n",
    "        for i in range(100) :\n",
    "            count += 1\n",
    "\n",
    "            u = random.choice(self._R.nonzero()[0])\n",
    "            i = random.choice(self._R[u].nonzero()[0]) \n",
    "            j = random.choice(self._R[u].nonzero()[0]) \n",
    "            \n",
    "            self.gradient_descent(u, i, j)\n",
    "            print(count)\n",
    "            \n",
    "            if count % 10 == 0 :\n",
    "                log_p = self.log_posterior()\n",
    "                self._training_process.append((count, log_p))\n",
    "                print(\"Iteration : %d, log_posterior = %.4f\" % (count, log_p))\n",
    "    \n",
    "    \n",
    "    def sigmoid(self, x):\n",
    "        \"\"\"\n",
    "        return sigmoid \n",
    "        \"\"\"\n",
    "        return 1 / (1 + np.exp(-x))\n",
    "    \n",
    "    \n",
    "    def log_posterior(self):\n",
    "        \"\"\"\n",
    "        compute log posterior of params\n",
    "        \"\"\"\n",
    "        lp = 0\n",
    "        non_zero_u = self._R.nonzero()[0] # 0 이 아닌 값의 index 반환\n",
    "        X = self._W.dot(self._H.T)\n",
    "        \n",
    "        for u in non_zero_u : # M\n",
    "            temp_i = self._R[u].nonzero()[0]\n",
    "            for i in temp_i: # N\n",
    "                for j in temp_i: # N\n",
    "                    lp += np.log(self.sigmoid(X[u, i] - X[u, j]))\n",
    "                    \n",
    "        return lp - self._reg_param * (np.linalg.norm(self._W) + np.linalg.norm(self._H))\n",
    "    \n",
    "    \n",
    "    def gradient_descent(self, u, i, j):\n",
    "        \"\"\"\n",
    "        gradient descent function\n",
    "        param u : user index\n",
    "        param i : item index i\n",
    "        param j : item index j\n",
    "        \"\"\"\n",
    "        sigmoid = self.sigmoid(self._W[u].dot(self._H[i].T) - self._W[u].dot(self._H[j].T))\n",
    "        self._W[u, :] -= self._learning_rate * (sigmoid * (self._H[i, :] - self._H[j, :]) - self._reg_param * self._W[u, :])\n",
    "        self._H[i, :] -= self._learning_rate * (sigmoid * self._W[u, :] - self._reg_param * self._H[i, :])\n",
    "        self._H[j, :] -= self._learning_rate * (-1 * sigmoid * self._W[u, :] - self._reg_param * self._H[j, :])\n",
    "    \n",
    "    \n",
    "    def print_results(self):\n",
    "        \"\"\"\n",
    "        print fit results\n",
    "        \"\"\"\n",
    "\n",
    "        print(\"Final R matrix:\")\n",
    "        print(self.get_complete_matrix())\n",
    "        print(\"Final RMSE:\")\n",
    "        print(self._training_process[self._epochs-1])"
   ]
  },
  {
   "cell_type": "code",
   "execution_count": null,
   "metadata": {},
   "outputs": [
    {
     "name": "stdout",
     "output_type": "stream",
     "text": [
      "1\n",
      "2\n",
      "3\n",
      "4\n",
      "5\n",
      "6\n",
      "7\n",
      "8\n",
      "9\n",
      "10\n"
     ]
    }
   ],
   "source": [
    "np.random.seed(7)\n",
    "np.seterr(all=\"warn\")\n",
    "    \n",
    "factorizer = MatrixFactorization(train, test, k=15, learning_rate=0.001, reg_param=0.001, epsilon = 0.1)\n",
    "\n",
    "# regression parameter 2개\n",
    "factorizer.fit()"
   ]
  },
  {
   "cell_type": "code",
   "execution_count": null,
   "metadata": {},
   "outputs": [],
   "source": []
  }
 ],
 "metadata": {
  "kernelspec": {
   "display_name": "mf_v1",
   "language": "python",
   "name": "mf_v1"
  },
  "language_info": {
   "codemirror_mode": {
    "name": "ipython",
    "version": 3
   },
   "file_extension": ".py",
   "mimetype": "text/x-python",
   "name": "python",
   "nbconvert_exporter": "python",
   "pygments_lexer": "ipython3",
   "version": "3.7.9"
  }
 },
 "nbformat": 4,
 "nbformat_minor": 4
}
