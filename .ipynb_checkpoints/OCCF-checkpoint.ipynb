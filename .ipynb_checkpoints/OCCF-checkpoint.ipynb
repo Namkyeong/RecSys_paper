{
 "cells": [
  {
   "cell_type": "code",
   "execution_count": 1,
   "metadata": {},
   "outputs": [],
   "source": [
    "import numpy as np\n",
    "import data\n",
    "from timeit import default_timer as timer"
   ]
  },
  {
   "cell_type": "code",
   "execution_count": 2,
   "metadata": {},
   "outputs": [],
   "source": [
    "train = data.train\n",
    "test = data.test"
   ]
  },
  {
   "cell_type": "code",
   "execution_count": 3,
   "metadata": {},
   "outputs": [],
   "source": [
    "class MatrixFactorization():\n",
    "    \n",
    "    def __init__(self, train, test, f, epsilon):\n",
    "        \"\"\"\n",
    "        param train : Rating Matrix for train\n",
    "        param test : Rating Matrix for test\n",
    "        param f : latent feature parameter\n",
    "        \"\"\"\n",
    "        \n",
    "        self._R = train # Implication Matrix for training size (m, n)\n",
    "        self._R_test = test # Implication Matrix for test size (m, n)\n",
    "        self._P = np.array(np.vectorize(lambda x: 0 if x==0 else 1)(train), dtype = np.float64) # Preference Matrix for training\n",
    "        self._P_test = np.array(np.vectorize(lambda x: 0 if x==0 else 1)(test), dtype = np.float64) # Preference Matrix for training\n",
    "        self._n_user_rated = np.sum(self._P, axis = 1)\n",
    "        self._n_item_rated = np.sum(self._P, axis = 0)\n",
    "        self._num_users, self._num_items = train.shape\n",
    "        self._alpha = 1\n",
    "        self._lambda = 0.01\n",
    "        self._C = 1 + self._alpha * self._R # Confidence Matrix size (m, n)\n",
    "        self._f = f\n",
    "        self._epsilon = epsilon\n",
    "        \n",
    "        \n",
    "    def fit(self):\n",
    "        \"\"\"\n",
    "        training Matrix Factorization : update matrix latent weight and bias\n",
    "        \"\"\"\n",
    "        # init latent features\n",
    "        self._X = np.random.normal(0, 0.1, size=(self._num_users, self._f))\n",
    "        self._Y = np.random.normal(0, 0.1, size=(self._num_items, self._f))\n",
    "        \n",
    "        count = 0\n",
    "        cost_diff = 1000000\n",
    "        self._training_process = []\n",
    "        self._cost = [0]\n",
    "        time = 0\n",
    "        # repeat ALS until convergence\n",
    "        while cost_diff > self._epsilon :\n",
    "            \n",
    "            start = timer()\n",
    "            count += 1\n",
    "            self._yTy = self._Y.T.dot(self._Y)\n",
    "            for u in range(self._num_users):\n",
    "                self.optimize_x(u)\n",
    "            \n",
    "            self._xTx = self._X.T.dot(self._X)\n",
    "            for i in range(self._num_items):\n",
    "                self.optimize_y(i)\n",
    "            time += (timer() - start)\n",
    "            \n",
    "            cost = self.cost()\n",
    "            self._cost.append(cost)\n",
    "            if count > 1 :\n",
    "                cost_diff = self._cost[count - 1] - self._cost[count]\n",
    "            rank = self.compute_rank()\n",
    "            self._training_process.append([count, cost_diff, rank])\n",
    "            \n",
    "            if (count % 10 == 0) :\n",
    "                print(\"count: %d, cost_difference : %.4f, rank : %.4f, average time for a epoch : %.4f\"% (count, cost_diff, rank, time / 10))\n",
    "                time = 0\n",
    "                \n",
    "                \n",
    "    def optimize_x(self, u):\n",
    "        \"\"\"\n",
    "        Optimize X given user u\n",
    "        \"\"\"\n",
    "        C_u = np.diag(self._C[u, :]) # create diagonal matrix size (n, n)\n",
    "        \n",
    "        # (f,f) matrix\n",
    "        temp1 = self._yTy + self._Y.T.dot(C_u - np.identity(self._num_items)).dot(self._Y) + self._lambda * np.identity(self._f)\n",
    "        # (f,1) matrix\n",
    "        temp2 = self._Y.T.dot(C_u).dot(self._P[u])\n",
    "        \n",
    "        self._X[u, :] = np.linalg.inv(temp1).dot(temp2)\n",
    "        \n",
    "    \n",
    "    def optimize_y(self, i):\n",
    "        \"\"\"\n",
    "        Optimize X given user u\n",
    "        \"\"\"\n",
    "        C_i = np.diag(self._C[:, i]) # create diagonal matrix size (m, m)\n",
    "        \n",
    "        # (f,f) matrix\n",
    "        temp1 = self._xTx + self._X.T.dot(C_i - np.identity(self._num_users)).dot(self._X) + self._lambda * np.identity(self._f)\n",
    "        # (f,1) matrix\n",
    "        temp2 = self._X.T.dot(C_i).dot(self._P[:, i])\n",
    "        \n",
    "        self._Y[i, :] = np.linalg.inv(temp1).dot(temp2)\n",
    "        \n",
    "                \n",
    "    def cost(self):\n",
    "        \"\"\"\n",
    "        compute Loss function\n",
    "        \"\"\"\n",
    "        loss = np.sum(self._C * np.square(self._P - self._X.dot(self._Y.T))) + self._lambda * (np.linalg.norm(self._X) + np.linalg.norm(self._Y))\n",
    "        \n",
    "        return loss\n",
    "    \n",
    "    \n",
    "    def compute_rank(self):\n",
    "        \n",
    "        prediction = self._X.dot(self._Y.T)\n",
    "        test_x = np.unique(self._R_test.nonzero()[0])\n",
    "        temp_1 = 0\n",
    "        temp_2 = 0\n",
    "        \n",
    "        for x in test_x :\n",
    "            temp_y = self._R_test[x].nonzero()\n",
    "            inv_pre = -1 * prediction[x, temp_y]\n",
    "            sort_x = inv_pre.argsort() # index starts with 0\n",
    "            sort_x = sort_x.argsort()\n",
    "            rank_x = sort_x / len(sort_x[0])\n",
    "            \n",
    "            temp_1 += (self._R_test[x, temp_y] * rank_x).sum()\n",
    "            temp_2 += self._R_test[x, temp_y].sum()\n",
    "        \n",
    "        rank = temp_1 / temp_2\n",
    "            \n",
    "        return rank\n",
    "    \n",
    "    \n",
    "    def print_results(self):\n",
    "        \"\"\"\n",
    "        print fit results\n",
    "        \"\"\"\n",
    "\n",
    "        print(\"Final P hat matrix:\")\n",
    "        print(self._X.dot(self._Y.T))"
   ]
  },
  {
   "cell_type": "code",
   "execution_count": 4,
   "metadata": {},
   "outputs": [
    {
     "name": "stdout",
     "output_type": "stream",
     "text": [
      "count: 10, cost_difference : 120.1176, rank : 0.4689, average time for a epoch : 33.3757\n",
      "count: 20, cost_difference : 16.9278, rank : 0.4689, average time for a epoch : 34.2047\n",
      "count: 30, cost_difference : 5.8932, rank : 0.4688, average time for a epoch : 33.6196\n",
      "count: 40, cost_difference : 3.0711, rank : 0.4688, average time for a epoch : 33.6040\n",
      "count: 50, cost_difference : 1.7081, rank : 0.4688, average time for a epoch : 34.2292\n",
      "count: 60, cost_difference : 0.9438, rank : 0.4688, average time for a epoch : 35.4069\n"
     ]
    }
   ],
   "source": [
    "np.random.seed(7)\n",
    "    \n",
    "np.seterr(all=\"warn\")\n",
    "    \n",
    "factorizer = MatrixFactorization(train, test, f=40, epsilon = 1.0)\n",
    "factorizer.fit()"
   ]
  },
  {
   "cell_type": "markdown",
   "metadata": {},
   "source": [
    "데이터 셋의 한계점이 존재하는 듯  \n",
    "cost_difference가 지속적으로 감소하는 것으로 봐서는, cost가 감소하면서 수렴하는 것으로 보임 (convex 함수이므로)  \n",
    "rank measure가 0.47인 것은 매우 나쁜 수치  \n",
    "저번주 implementation 중 좋은 성능을 보인 Constrained_pmf에 적용해보니, 0.45 수준에 수렴하는 것을 확인할 수 있었음"
   ]
  },
  {
   "cell_type": "code",
   "execution_count": 6,
   "metadata": {},
   "outputs": [],
   "source": [
    "ind_list = []\n",
    "drop_list = []\n",
    "rank_list = []\n",
    "\n",
    "for i in range(len(factorizer._training_process)):\n",
    "    ind_list.append(factorizer._training_process[i][0])\n",
    "    drop_list.append(factorizer._training_process[i][1])\n",
    "    rank_list.append(factorizer._training_process[i][2])"
   ]
  },
  {
   "cell_type": "code",
   "execution_count": 12,
   "metadata": {},
   "outputs": [
    {
     "ename": "ValueError",
     "evalue": "x and y must have same first dimension, but have shapes (999,) and (60,)",
     "output_type": "error",
     "traceback": [
      "\u001b[0;31m---------------------------------------------------------------------------\u001b[0m",
      "\u001b[0;31mValueError\u001b[0m                                Traceback (most recent call last)",
      "\u001b[0;32m<ipython-input-12-27c8c0c1aa74>\u001b[0m in \u001b[0;36m<module>\u001b[0;34m\u001b[0m\n\u001b[1;32m      7\u001b[0m \u001b[0max1\u001b[0m\u001b[0;34m.\u001b[0m\u001b[0mset_xlabel\u001b[0m\u001b[0;34m(\u001b[0m\u001b[0;34m'time (s)'\u001b[0m\u001b[0;34m)\u001b[0m\u001b[0;34m\u001b[0m\u001b[0;34m\u001b[0m\u001b[0m\n\u001b[1;32m      8\u001b[0m \u001b[0max1\u001b[0m\u001b[0;34m.\u001b[0m\u001b[0mset_ylabel\u001b[0m\u001b[0;34m(\u001b[0m\u001b[0;34m'rank'\u001b[0m\u001b[0;34m,\u001b[0m \u001b[0mcolor\u001b[0m\u001b[0;34m=\u001b[0m\u001b[0mcolor\u001b[0m\u001b[0;34m)\u001b[0m\u001b[0;34m\u001b[0m\u001b[0;34m\u001b[0m\u001b[0m\n\u001b[0;32m----> 9\u001b[0;31m \u001b[0max1\u001b[0m\u001b[0;34m.\u001b[0m\u001b[0mplot\u001b[0m\u001b[0;34m(\u001b[0m\u001b[0mt\u001b[0m\u001b[0;34m,\u001b[0m \u001b[0mrank_list\u001b[0m\u001b[0;34m,\u001b[0m \u001b[0mcolor\u001b[0m\u001b[0;34m=\u001b[0m\u001b[0mcolor\u001b[0m\u001b[0;34m)\u001b[0m\u001b[0;34m\u001b[0m\u001b[0;34m\u001b[0m\u001b[0m\n\u001b[0m\u001b[1;32m     10\u001b[0m \u001b[0max1\u001b[0m\u001b[0;34m.\u001b[0m\u001b[0mtick_params\u001b[0m\u001b[0;34m(\u001b[0m\u001b[0maxis\u001b[0m\u001b[0;34m=\u001b[0m\u001b[0;34m'y'\u001b[0m\u001b[0;34m,\u001b[0m \u001b[0mlabelcolor\u001b[0m\u001b[0;34m=\u001b[0m\u001b[0mcolor\u001b[0m\u001b[0;34m)\u001b[0m\u001b[0;34m\u001b[0m\u001b[0;34m\u001b[0m\u001b[0m\n\u001b[1;32m     11\u001b[0m \u001b[0;34m\u001b[0m\u001b[0m\n",
      "\u001b[0;32m~/anaconda3/envs/mf_v1/lib/python3.7/site-packages/matplotlib/axes/_axes.py\u001b[0m in \u001b[0;36mplot\u001b[0;34m(self, scalex, scaley, data, *args, **kwargs)\u001b[0m\n\u001b[1;32m   1741\u001b[0m         \"\"\"\n\u001b[1;32m   1742\u001b[0m         \u001b[0mkwargs\u001b[0m \u001b[0;34m=\u001b[0m \u001b[0mcbook\u001b[0m\u001b[0;34m.\u001b[0m\u001b[0mnormalize_kwargs\u001b[0m\u001b[0;34m(\u001b[0m\u001b[0mkwargs\u001b[0m\u001b[0;34m,\u001b[0m \u001b[0mmlines\u001b[0m\u001b[0;34m.\u001b[0m\u001b[0mLine2D\u001b[0m\u001b[0;34m)\u001b[0m\u001b[0;34m\u001b[0m\u001b[0;34m\u001b[0m\u001b[0m\n\u001b[0;32m-> 1743\u001b[0;31m         \u001b[0mlines\u001b[0m \u001b[0;34m=\u001b[0m \u001b[0;34m[\u001b[0m\u001b[0;34m*\u001b[0m\u001b[0mself\u001b[0m\u001b[0;34m.\u001b[0m\u001b[0m_get_lines\u001b[0m\u001b[0;34m(\u001b[0m\u001b[0;34m*\u001b[0m\u001b[0margs\u001b[0m\u001b[0;34m,\u001b[0m \u001b[0mdata\u001b[0m\u001b[0;34m=\u001b[0m\u001b[0mdata\u001b[0m\u001b[0;34m,\u001b[0m \u001b[0;34m**\u001b[0m\u001b[0mkwargs\u001b[0m\u001b[0;34m)\u001b[0m\u001b[0;34m]\u001b[0m\u001b[0;34m\u001b[0m\u001b[0;34m\u001b[0m\u001b[0m\n\u001b[0m\u001b[1;32m   1744\u001b[0m         \u001b[0;32mfor\u001b[0m \u001b[0mline\u001b[0m \u001b[0;32min\u001b[0m \u001b[0mlines\u001b[0m\u001b[0;34m:\u001b[0m\u001b[0;34m\u001b[0m\u001b[0;34m\u001b[0m\u001b[0m\n\u001b[1;32m   1745\u001b[0m             \u001b[0mself\u001b[0m\u001b[0;34m.\u001b[0m\u001b[0madd_line\u001b[0m\u001b[0;34m(\u001b[0m\u001b[0mline\u001b[0m\u001b[0;34m)\u001b[0m\u001b[0;34m\u001b[0m\u001b[0;34m\u001b[0m\u001b[0m\n",
      "\u001b[0;32m~/anaconda3/envs/mf_v1/lib/python3.7/site-packages/matplotlib/axes/_base.py\u001b[0m in \u001b[0;36m__call__\u001b[0;34m(self, data, *args, **kwargs)\u001b[0m\n\u001b[1;32m    271\u001b[0m                 \u001b[0mthis\u001b[0m \u001b[0;34m+=\u001b[0m \u001b[0margs\u001b[0m\u001b[0;34m[\u001b[0m\u001b[0;36m0\u001b[0m\u001b[0;34m]\u001b[0m\u001b[0;34m,\u001b[0m\u001b[0;34m\u001b[0m\u001b[0;34m\u001b[0m\u001b[0m\n\u001b[1;32m    272\u001b[0m                 \u001b[0margs\u001b[0m \u001b[0;34m=\u001b[0m \u001b[0margs\u001b[0m\u001b[0;34m[\u001b[0m\u001b[0;36m1\u001b[0m\u001b[0;34m:\u001b[0m\u001b[0;34m]\u001b[0m\u001b[0;34m\u001b[0m\u001b[0;34m\u001b[0m\u001b[0m\n\u001b[0;32m--> 273\u001b[0;31m             \u001b[0;32myield\u001b[0m \u001b[0;32mfrom\u001b[0m \u001b[0mself\u001b[0m\u001b[0;34m.\u001b[0m\u001b[0m_plot_args\u001b[0m\u001b[0;34m(\u001b[0m\u001b[0mthis\u001b[0m\u001b[0;34m,\u001b[0m \u001b[0mkwargs\u001b[0m\u001b[0;34m)\u001b[0m\u001b[0;34m\u001b[0m\u001b[0;34m\u001b[0m\u001b[0m\n\u001b[0m\u001b[1;32m    274\u001b[0m \u001b[0;34m\u001b[0m\u001b[0m\n\u001b[1;32m    275\u001b[0m     \u001b[0;32mdef\u001b[0m \u001b[0mget_next_color\u001b[0m\u001b[0;34m(\u001b[0m\u001b[0mself\u001b[0m\u001b[0;34m)\u001b[0m\u001b[0;34m:\u001b[0m\u001b[0;34m\u001b[0m\u001b[0;34m\u001b[0m\u001b[0m\n",
      "\u001b[0;32m~/anaconda3/envs/mf_v1/lib/python3.7/site-packages/matplotlib/axes/_base.py\u001b[0m in \u001b[0;36m_plot_args\u001b[0;34m(self, tup, kwargs)\u001b[0m\n\u001b[1;32m    397\u001b[0m \u001b[0;34m\u001b[0m\u001b[0m\n\u001b[1;32m    398\u001b[0m         \u001b[0;32mif\u001b[0m \u001b[0mx\u001b[0m\u001b[0;34m.\u001b[0m\u001b[0mshape\u001b[0m\u001b[0;34m[\u001b[0m\u001b[0;36m0\u001b[0m\u001b[0;34m]\u001b[0m \u001b[0;34m!=\u001b[0m \u001b[0my\u001b[0m\u001b[0;34m.\u001b[0m\u001b[0mshape\u001b[0m\u001b[0;34m[\u001b[0m\u001b[0;36m0\u001b[0m\u001b[0;34m]\u001b[0m\u001b[0;34m:\u001b[0m\u001b[0;34m\u001b[0m\u001b[0;34m\u001b[0m\u001b[0m\n\u001b[0;32m--> 399\u001b[0;31m             raise ValueError(f\"x and y must have same first dimension, but \"\n\u001b[0m\u001b[1;32m    400\u001b[0m                              f\"have shapes {x.shape} and {y.shape}\")\n\u001b[1;32m    401\u001b[0m         \u001b[0;32mif\u001b[0m \u001b[0mx\u001b[0m\u001b[0;34m.\u001b[0m\u001b[0mndim\u001b[0m \u001b[0;34m>\u001b[0m \u001b[0;36m2\u001b[0m \u001b[0;32mor\u001b[0m \u001b[0my\u001b[0m\u001b[0;34m.\u001b[0m\u001b[0mndim\u001b[0m \u001b[0;34m>\u001b[0m \u001b[0;36m2\u001b[0m\u001b[0;34m:\u001b[0m\u001b[0;34m\u001b[0m\u001b[0;34m\u001b[0m\u001b[0m\n",
      "\u001b[0;31mValueError\u001b[0m: x and y must have same first dimension, but have shapes (999,) and (60,)"
     ]
    },
    {
     "data": {
      "image/png": "[encoded data removed]",
      "text/plain": [
       "<Figure size 432x288 with 1 Axes>"
      ]
     },
     "metadata": {
      "needs_background": "light"
     },
     "output_type": "display_data"
    }
   ],
   "source": [
    "import matplotlib.pyplot as plt\n",
    "\n",
    "fig, ax1 = plt.subplots()\n",
    "\n",
    "\n",
    "\n",
    "color = 'tab:red'\n",
    "ax1.set_xlabel('time (s)')\n",
    "ax1.set_ylabel('rank', color=color)\n",
    "ax1.plot(t, rank_list, color=color)\n",
    "ax1.tick_params(axis='y', labelcolor=color)\n",
    "\n",
    "ax2 = ax1.twinx()  # instantiate a second axes that shares the same x-axis\n",
    "color = 'tab:blue'\n",
    "ax2.set_ylabel('cost drop', color=color)  # we already handled the x-label with ax1\n",
    "ax2.plot(t, drop_list, color=color)\n",
    "ax2.tick_params(axis='y', labelcolor=color)\n",
    "\n",
    "fig.tight_layout()  # otherwise the right y-label is slightly clipped\n",
    "plt.show()"
   ]
  },
  {
   "cell_type": "code",
   "execution_count": null,
   "metadata": {},
   "outputs": [],
   "source": []
  }
 ],
 "metadata": {
  "kernelspec": {
   "display_name": "mf_v1",
   "language": "python",
   "name": "mf_v1"
  },
  "language_info": {
   "codemirror_mode": {
    "name": "ipython",
    "version": 3
   },
   "file_extension": ".py",
   "mimetype": "text/x-python",
   "name": "python",
   "nbconvert_exporter": "python",
   "pygments_lexer": "ipython3",
   "version": "3.7.9"
  }
 },
 "nbformat": 4,
 "nbformat_minor": 4
}
